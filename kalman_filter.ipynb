{
 "cells": [
  {
   "cell_type": "code",
   "execution_count": 1,
   "metadata": {},
   "outputs": [],
   "source": [
    "import numpy as np"
   ]
  },
  {
   "cell_type": "markdown",
   "metadata": {},
   "source": [
    "Implementation of physical model:\n",
    "\n",
    "$X_{k+1} = A \\cdot X_k + B \\cdot U_k$\n",
    "\n",
    "$Q$ — noise covariance matrix"
   ]
  },
  {
   "cell_type": "code",
   "execution_count": 427,
   "metadata": {},
   "outputs": [],
   "source": [
    "class Phys_model: \n",
    "    def __init__(self, A=None, B=None, C=None):\n",
    "        self.__A = A\n",
    "        self.__B = B\n",
    "        self.__C = C\n",
    "    \n",
    "    def get_next_step(self, x_k, u_k):\n",
    "        return (self.A.dot(x_k) + self.B.dot(u_k), C.dot(u_k))  \n",
    "    \n",
    "    #getters and setters\n",
    "    @property\n",
    "    def A(self):\n",
    "        return self.__A\n",
    "    \n",
    "    @property\n",
    "    def B(self):\n",
    "        return self.__B\n",
    "    \n",
    "    @property\n",
    "    def C(self):\n",
    "        return self.__C\n"
   ]
  },
  {
   "cell_type": "code",
   "execution_count": 428,
   "metadata": {},
   "outputs": [],
   "source": [
    "def print_debug(*args):\n",
    "    str_to_print = \"\"\n",
    "    for i, arg in enumerate(args):\n",
    "        str_to_print = str_to_print + \"Arg{num}: {arg}\\t\".format(num=i+1, arg=arg)\n",
    "    print(str_to_print)"
   ]
  },
  {
   "cell_type": "code",
   "execution_count": 491,
   "metadata": {},
   "outputs": [],
   "source": [
    "class KalmanFilter: \n",
    "    def __init__(self, phys_model, Q, H, P, K, R, z):\n",
    "        self.__phys_model = phys_model\n",
    "        self.__Q = Q\n",
    "        self.__H = H\n",
    "        self.__P = P\n",
    "        self.__K = K\n",
    "        self.__R = K\n",
    "        self.__z = z\n",
    "        \n",
    "    def project_error_covariance(self, P):\n",
    "        A = self.phys_model.A\n",
    "        return A.dot(P).dot(A.T) + Q\n",
    "    \n",
    "    def error_covariance_update(self, P, K, H):\n",
    "        E = np.eye(K.shape[0])\n",
    "        return (E - K.dot(H)).dot(P)\n",
    "    \n",
    "    def compute_kalman_gain(self, P, H, R):\n",
    "        tmp = (H.dot(P).dot(H.T) + R)\n",
    "        try: \n",
    "            tmp = H.dot(P).dot(H.T) + R\n",
    "            tmp = np.linalg.inv(tmp)\n",
    "        except np.linalg.linalg.LinAlgError:\n",
    "            tmp = np.zeros(tmp.shape)\n",
    "        return P.dot(H.T).dot(tmp)\n",
    "    \n",
    "    \n",
    "    def do_filtration(self, n_steps, xk_initial, uk_initial):\n",
    "        xk_opt = xk_initial\n",
    "        uk = uk_initial\n",
    "        \n",
    "        res = [xk_opt]\n",
    "        \n",
    "        for i in range(n_steps):\n",
    "            (xk, uk) = self.phys_model.get_next_step(xk_opt, uk)\n",
    "            p = self.project_error_covariance(self.P)\n",
    "            \n",
    "            K = self.compute_kalman_gain(self.P, self.H, self.R)\n",
    "            xk_opt = xk + K.dot(self.z[i] - self.H.dot(xk))\n",
    "            res.append(xk_opt)\n",
    "            self.P = self.error_covariance_update(p, K, self.H)\n",
    "        return np.array(res)\n",
    "    \n",
    "    #getters and setters\n",
    "    @property\n",
    "    def phys_model(self):\n",
    "        return self.__phys_model\n",
    "    \n",
    "    @property\n",
    "    def Q(self):\n",
    "        return self.__Q\n",
    "    \n",
    "    @property\n",
    "    def P(self):\n",
    "        return self.__P\n",
    "    \n",
    "    @P.setter\n",
    "    def P(self, P):\n",
    "        self.__P = P\n",
    "    \n",
    "    @property\n",
    "    def K(self):\n",
    "        return self.__K\n",
    "    \n",
    "    @property\n",
    "    def H(self):\n",
    "        return self.__H\n",
    "    \n",
    "    @property\n",
    "    def z(self):\n",
    "        return self.__z\n",
    "    \n",
    "    @property\n",
    "    def R(self):\n",
    "        return self.__R"
   ]
  },
  {
   "cell_type": "code",
   "execution_count": 475,
   "metadata": {},
   "outputs": [],
   "source": [
    "A = np.array([[1]])\n",
    "B = np.array([[1]])\n",
    "C = np.array([[1]])\n",
    "\n",
    "model = Phys_model(A, B, C)"
   ]
  },
  {
   "cell_type": "code",
   "execution_count": 476,
   "metadata": {},
   "outputs": [],
   "source": [
    "xk = np.array([[1]])\n",
    "uk = np.array([[1]])\n",
    "observations = [xk]\n",
    "for i in range(100 - 1):\n",
    "    (xk, uk) = model.get_next_step(xk, uk)\n",
    "    observations.append(xk)\n",
    "\n",
    "observations = np.array(observations)\n",
    "observations_with_noise = observations + np.random.normal(0, 3, 100).reshape(100, 1, 1)"
   ]
  },
  {
   "cell_type": "code",
   "execution_count": 477,
   "metadata": {},
   "outputs": [],
   "source": [
    "Q = np.array([[0.1]])\n",
    "H = np.array([[1]])\n",
    "P = np.array([[1]])\n",
    "K = np.array([[2]])\n",
    "R = np.array([[2]])\n",
    "z = observations_with_noise\n",
    "\n",
    "filter = KalmanFilter(model, Q, H, P, K, R, z)"
   ]
  },
  {
   "cell_type": "code",
   "execution_count": 234,
   "metadata": {
    "scrolled": true
   },
   "outputs": [],
   "source": [
    "xk = np.array([[1]])\n",
    "uk = np.array([[1]])\n",
    "\n",
    "res = filter.do_filtration(50, xk, uk)"
   ]
  },
  {
   "cell_type": "code",
   "execution_count": 235,
   "metadata": {},
   "outputs": [],
   "source": [
    "obs_reshaped = observations.reshape(observations.shape[0],)\n",
    "obs_wn_reshaped = observations_with_noise.reshape(observations_with_noise.shape[0],)\n",
    "res_reshaped = res.reshape(res.shape[0],)"
   ]
  },
  {
   "cell_type": "code",
   "execution_count": 236,
   "metadata": {
    "scrolled": false
   },
   "outputs": [
    {
     "data": {
      "image/png": "[encoded data removed]",
      "text/plain": [
       "<matplotlib.figure.Figure at 0x107f1e828>"
      ]
     },
     "metadata": {},
     "output_type": "display_data"
    }
   ],
   "source": [
    "%matplotlib inline\n",
    "import matplotlib.pyplot as plt\n",
    "import numpy as np\n",
    "\n",
    "t = np.arange(0.0, 50, 1)\n",
    "\n",
    "plt.plot(t, obs_reshaped[:50], 'r')\n",
    "plt.plot(t, obs_wn_reshaped[:50], 'g')\n",
    "plt.plot(t, res_reshaped[1:51])\n",
    "plt.xlabel('time (s)')\n",
    "plt.ylabel('voltage (mV)')\n",
    "plt.title('About as simple as it gets, folks')\n",
    "plt.grid(True)\n",
    "plt.savefig(\"test.png\")\n",
    "plt.show()"
   ]
  },
  {
   "cell_type": "markdown",
   "metadata": {},
   "source": [
    "### Model 2"
   ]
  },
  {
   "cell_type": "code",
   "execution_count": 492,
   "metadata": {},
   "outputs": [],
   "source": [
    "A = np.array([[0.3, 1.1], [0.9, 0]])\n",
    "B = np.array([[0], [0]])\n",
    "C = np.array([[0]])\n",
    "\n",
    "model = Phys_model(A, B, C)"
   ]
  },
  {
   "cell_type": "code",
   "execution_count": 493,
   "metadata": {
    "scrolled": true
   },
   "outputs": [],
   "source": [
    "xk = np.array([[1],[0.3]])\n",
    "uk = np.array([[0]])\n",
    "observations = [xk]\n",
    "for i in range(100 - 1):\n",
    "    (xk, uk) = model.get_next_step(xk, uk)\n",
    "    observations.append(xk)\n",
    "\n",
    "observations = np.array(observations)\n",
    "cov = np.array([[1, 0],\n",
    "                [0, 2]])\n",
    "observations_with_noise = observations + np.random.multivariate_normal([0, 0], cov, 100).reshape(100, 2, 1)"
   ]
  },
  {
   "cell_type": "code",
   "execution_count": 499,
   "metadata": {},
   "outputs": [
    {
     "data": {
      "text/plain": [
       "(100, 2, 1)"
      ]
     },
     "execution_count": 499,
     "metadata": {},
     "output_type": "execute_result"
    }
   ],
   "source": [
    "observations.shape"
   ]
  },
  {
   "cell_type": "code",
   "execution_count": 504,
   "metadata": {},
   "outputs": [],
   "source": [
    "R = np.array([[1, 0],\n",
    "             [0, 1.7]])\n",
    "H = np.array([[1, 0],\n",
    "              [0, 1]])\n",
    "P = np.array([[1, 0],\n",
    "              [0, 1]])\n",
    "K = np.array([[1, 0],\n",
    "              [0, 1]])\n",
    "Q = np.array([[1, 0],\n",
    "              [0, 1.1]])\n",
    "z = observations_with_noise\n",
    "\n",
    "filter = KalmanFilter(model, Q, H, P, K, R, z)"
   ]
  },
  {
   "cell_type": "code",
   "execution_count": 505,
   "metadata": {},
   "outputs": [],
   "source": [
    "xk = np.array([[1],[0.3]])\n",
    "uk = np.array([[0]])\n",
    "\n",
    "re = filter.do_filtration(30, xk, uk)"
   ]
  },
  {
   "cell_type": "code",
   "execution_count": 506,
   "metadata": {},
   "outputs": [
    {
     "data": {
      "text/plain": [
       "array([[ 2.22348626],\n",
       "       [ 0.58621158]])"
      ]
     },
     "execution_count": 506,
     "metadata": {},
     "output_type": "execute_result"
    }
   ],
   "source": []
  },
  {
   "cell_type": "code",
   "execution_count": 508,
   "metadata": {
    "scrolled": false
   },
   "outputs": [
    {
     "data": {
      "image/png": "[encoded data removed]",
      "text/plain": [
       "<matplotlib.figure.Figure at 0x105cad5f8>"
      ]
     },
     "metadata": {},
     "output_type": "display_data"
    }
   ],
   "source": [
    "%matplotlib inline\n",
    "import matplotlib.pyplot as plt\n",
    "import numpy as np\n",
    "\n",
    "plt.plot(observations[:20, 1], observations[:20, 0], 'go-')\n",
    "plt.plot(observations_with_noise[:20, 1], observations_with_noise[:20, 0], 'ro-')\n",
    "plt.plot(re[1:21, 1], re[1:21, 0], 'bo-')\n",
    "plt.show()"
   ]
  }
 ],
 "metadata": {
  "kernelspec": {
   "display_name": "Python 3",
   "language": "python",
   "name": "python3"
  },
  "language_info": {
   "codemirror_mode": {
    "name": "ipython",
    "version": 3
   },
   "file_extension": ".py",
   "mimetype": "text/x-python",
   "name": "python",
   "nbconvert_exporter": "python",
   "pygments_lexer": "ipython3",
   "version": "3.6.2"
  }
 },
 "nbformat": 4,
 "nbformat_minor": 2
}
