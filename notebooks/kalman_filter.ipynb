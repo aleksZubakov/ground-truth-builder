{
 "cells": [
  {
   "cell_type": "code",
   "execution_count": 4,
   "metadata": {},
   "outputs": [],
   "source": [
    "import numpy as np"
   ]
  },
  {
   "cell_type": "code",
   "execution_count": 368,
   "metadata": {},
   "outputs": [],
   "source": [
    "class Phys_model: \n",
    "    def __init__(self, A=None, B=None, C=None):\n",
    "        self.__A = A\n",
    "        self.__B = B\n",
    "        self.__C = C\n",
    "    \n",
    "    def get_next_step(self, x_k, u_k):\n",
    "        return (self.A.dot(x_k) + self.B.dot(u_k), C.dot(u_k))  \n",
    "    \n",
    "    #getters and setters\n",
    "    @property\n",
    "    def A(self):\n",
    "        return self.__A\n",
    "    \n",
    "    @property\n",
    "    def B(self):\n",
    "        return self.__B\n",
    "    \n",
    "    @property\n",
    "    def C(self):\n",
    "        return self.__C\n"
   ]
  },
  {
   "cell_type": "code",
   "execution_count": 369,
   "metadata": {},
   "outputs": [],
   "source": [
    "def print_debug(*args):\n",
    "    str_to_print = \"\"\n",
    "    for i, arg in enumerate(args):\n",
    "        str_to_print = str_to_print + \"Arg{num}: {arg}\\t\".format(num=i+1, arg=arg)\n",
    "    print(str_to_print)"
   ]
  },
  {
   "cell_type": "code",
   "execution_count": 370,
   "metadata": {},
   "outputs": [],
   "source": [
    "class KalmanFilter: \n",
    "    def __init__(self, phys_model, Q, H, P, K, R, z):\n",
    "        self.__phys_model = phys_model\n",
    "        self.__Q = Q\n",
    "        self.__H = H\n",
    "        self.__P = P\n",
    "        self.__K = K\n",
    "        self.__R = R\n",
    "        self.__z = z\n",
    "        \n",
    "        self.__xk_opt = None\n",
    "        self.__uk = None\n",
    "        \n",
    "    def __predict_project_error_covariance(self):\n",
    "        a = self.__phys_model.A\n",
    "        q = self.__Q\n",
    "        p = self.__P\n",
    "        self.__P = a.dot(p).dot(a.T) + q\n",
    "    \n",
    "    def __update_error_covariance(self):\n",
    "        k = self.__K\n",
    "        p = self.__P\n",
    "        h = self.__H\n",
    "        eye = np.eye(k.shape[0])\n",
    "        self.__P = (eye - k.dot(h)).dot(p)\n",
    "    \n",
    "    def __compute_kalman_gain(self):\n",
    "        p = self.__P\n",
    "        h = self.__H\n",
    "        r = self.__R\n",
    "        tmp = (h.dot(p).dot(h.T) + r)\n",
    "        try: \n",
    "            tmp = h.dot(p).dot(h.T) + r\n",
    "            tmp = np.linalg.inv(tmp)\n",
    "        except np.linalg.linalg.LinAlgError:\n",
    "            tmp = np.zeros(tmp.shape)\n",
    "            \n",
    "        self.__K = p.dot(h.T).dot(tmp)\n",
    "    \n",
    "    def __compute_xk_opt(self, xk, k):\n",
    "        self.__xk_opt = xk + self.__K.dot(self.__z[k] - self.__H.dot(xk))\n",
    "    \n",
    "    def do_filtration(self, n_steps, xk_initial, uk_initial):\n",
    "        self.__xk_opt = xk_initial\n",
    "        self.__uk = uk_initial\n",
    "        \n",
    "        res = []\n",
    "        \n",
    "        for i in range(n_steps):\n",
    "            (xk, self.__uk) = self.__phys_model.get_next_step(self.__xk_opt, self.__uk)\n",
    "            self.__predict_project_error_covariance()\n",
    "            self.__compute_kalman_gain()\n",
    "            self.__compute_xk_opt(xk, i)\n",
    "            self.__update_error_covariance()\n",
    "            \n",
    "            res.append(self.__xk_opt)\n",
    "            \n",
    "        return np.array(res)\n",
    "    \n",
    "    #getters and setters    \n",
    "    @property\n",
    "    def P(self):\n",
    "        return self.__P\n",
    "    \n",
    "    #!TODO: write adequate setter\n",
    "#     @P.setter\n",
    "#     def P(self, P):\n",
    "#         self.__P = P\n",
    "    \n",
    "    @property\n",
    "    def K(self):\n",
    "        return self.__K\n",
    "    \n",
    "    \n",
    "    #!TODO: write adequate setter\n",
    "#     @z.setter\n",
    "#     def z(self, z):\n",
    "#         self.__z = z\n"
   ]
  },
  {
   "cell_type": "markdown",
   "metadata": {},
   "source": [
    "### Model 1"
   ]
  },
  {
   "cell_type": "code",
   "execution_count": 371,
   "metadata": {},
   "outputs": [],
   "source": [
    "A = np.array([[1]])\n",
    "B = np.array([[1]])\n",
    "C = np.array([[1]])\n",
    "\n",
    "model = Phys_model(A, B, C)"
   ]
  },
  {
   "cell_type": "code",
   "execution_count": 372,
   "metadata": {},
   "outputs": [],
   "source": [
    "xk = np.array([[1]])\n",
    "uk = np.array([[1]])\n",
    "observations = [xk]\n",
    "for i in range(100 - 1):\n",
    "    (xk, uk) = model.get_next_step(xk, uk)\n",
    "    observations.append(xk)\n",
    "\n",
    "observations = np.array(observations)\n",
    "observations_with_noise = observations + np.random.normal(0, 3, 100).reshape(100, 1, 1)"
   ]
  },
  {
   "cell_type": "code",
   "execution_count": 373,
   "metadata": {},
   "outputs": [],
   "source": [
    "Q = np.array([[0.1]])\n",
    "H = np.array([[1]])\n",
    "P = np.array([[1]])\n",
    "K = np.array([[2]])\n",
    "R = np.array([[2]])\n",
    "z = observations_with_noise\n",
    "\n",
    "filter = KalmanFilter(model, Q, H, P, K, R, z)"
   ]
  },
  {
   "cell_type": "code",
   "execution_count": 374,
   "metadata": {},
   "outputs": [],
   "source": [
    "filter = KalmanFilter(model, Q, H, P, K, R, z)"
   ]
  },
  {
   "cell_type": "code",
   "execution_count": 375,
   "metadata": {
    "scrolled": true
   },
   "outputs": [],
   "source": [
    "xk = np.array([[1]])\n",
    "uk = np.array([[1]])\n",
    "\n",
    "res = filter.do_filtration(50, xk, uk)"
   ]
  },
  {
   "cell_type": "code",
   "execution_count": 376,
   "metadata": {},
   "outputs": [],
   "source": [
    "obs_reshaped = observations.reshape(observations.shape[0],)\n",
    "obs_wn_reshaped = observations_with_noise.reshape(observations_with_noise.shape[0],)\n",
    "res_reshaped = res.reshape(res.shape[0],)"
   ]
  },
  {
   "cell_type": "code",
   "execution_count": 377,
   "metadata": {
    "scrolled": false
   },
   "outputs": [
    {
     "data": {
      "image/png": "[encoded data removed]",
      "text/plain": [
       "<matplotlib.figure.Figure at 0x107615208>"
      ]
     },
     "metadata": {},
     "output_type": "display_data"
    }
   ],
   "source": [
    "%matplotlib inline\n",
    "import matplotlib.pyplot as plt\n",
    "import numpy as np\n",
    "\n",
    "t = np.arange(0.0, 50, 1)\n",
    "\n",
    "plt.plot(t, obs_reshaped[:50], 'r')\n",
    "plt.plot(t, obs_wn_reshaped[:50], 'g')\n",
    "plt.plot(t, res_reshaped[0:50], 'b')\n",
    "plt.show()"
   ]
  },
  {
   "cell_type": "markdown",
   "metadata": {},
   "source": [
    "Green - ground truth\n",
    "\n",
    "Red - observation with noise\n",
    "\n",
    "Blue - Kalman filter"
   ]
  },
  {
   "cell_type": "markdown",
   "metadata": {},
   "source": [
    "### Model 2"
   ]
  },
  {
   "cell_type": "code",
   "execution_count": 295,
   "metadata": {},
   "outputs": [],
   "source": [
    "A = np.array([[0.3, 1.1], [0.9, 0]])\n",
    "B = np.array([[0], [0]])\n",
    "C = np.array([[0]])\n",
    "\n",
    "model = Phys_model(A, B, C)"
   ]
  },
  {
   "cell_type": "code",
   "execution_count": 296,
   "metadata": {
    "scrolled": true
   },
   "outputs": [],
   "source": [
    "xk = np.array([[1],[0.3]])\n",
    "uk = np.array([[0]])\n",
    "observations = [xk]\n",
    "for i in range(100 - 1):\n",
    "    (xk, uk) = model.get_next_step(xk, uk)\n",
    "    observations.append(xk)\n",
    "\n",
    "observations = np.array(observations)\n",
    "cov = np.array([[1, 0],\n",
    "                [0, 2]])\n",
    "observations_with_noise = observations + np.random.multivariate_normal([0, 0], cov, 100).reshape(100, 2, 1)"
   ]
  },
  {
   "cell_type": "code",
   "execution_count": 297,
   "metadata": {},
   "outputs": [],
   "source": [
    "R = np.array([[1, 0],\n",
    "             [0, 1.7]])\n",
    "H = np.array([[1, 0],\n",
    "              [0, 1]])\n",
    "P = np.array([[1, 0],\n",
    "              [0, 1]])\n",
    "K = np.array([[1, 0],\n",
    "              [0, 1]])\n",
    "Q = np.array([[1, 0],\n",
    "              [0, 1.1]])\n",
    "z = observations_with_noise\n",
    "\n",
    "filter = KalmanFilter(model, Q, H, P, K, R, z)"
   ]
  },
  {
   "cell_type": "code",
   "execution_count": 298,
   "metadata": {},
   "outputs": [],
   "source": [
    "xk = np.array([[1],[0.3]])\n",
    "uk = np.array([[0]])\n",
    "\n",
    "re = filter.do_filtration(30, xk, uk)"
   ]
  },
  {
   "cell_type": "code",
   "execution_count": 302,
   "metadata": {
    "scrolled": false
   },
   "outputs": [
    {
     "data": {
      "image/png": "[encoded data removed]",
      "text/plain": [
       "<matplotlib.figure.Figure at 0x1062481d0>"
      ]
     },
     "metadata": {},
     "output_type": "display_data"
    }
   ],
   "source": [
    "%matplotlib inline\n",
    "import matplotlib.pyplot as plt\n",
    "import numpy as np\n",
    "\n",
    "plt.plot(observations[:20, 1], observations[:20, 0], 'go-')\n",
    "plt.plot(observations_with_noise[:20, 1], observations_with_noise[:20, 0], 'ro-')\n",
    "plt.plot(re[0:20, 1], re[1:21, 0], 'bo-')\n",
    "plt.show()"
   ]
  },
  {
   "cell_type": "markdown",
   "metadata": {},
   "source": [
    "Green - ground truth\n",
    "\n",
    "Red - observation with noise\n",
    "\n",
    "Blue - Kalman filter"
   ]
  },
  {
   "cell_type": "code",
   "execution_count": null,
   "metadata": {},
   "outputs": [],
   "source": []
  }
 ],
 "metadata": {
  "kernelspec": {
   "display_name": "Python 3",
   "language": "python",
   "name": "python3"
  },
  "language_info": {
   "codemirror_mode": {
    "name": "ipython",
    "version": 3
   },
   "file_extension": ".py",
   "mimetype": "text/x-python",
   "name": "python",
   "nbconvert_exporter": "python",
   "pygments_lexer": "ipython3",
   "version": "3.6.2"
  }
 },
 "nbformat": 4,
 "nbformat_minor": 2
}
